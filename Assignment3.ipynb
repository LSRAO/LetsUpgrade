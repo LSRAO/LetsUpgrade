{
 "cells": [
  {
   "cell_type": "markdown",
   "metadata": {},
   "source": [
    "### Question 1:\n",
    "\n",
    "Create a numpy array starting from 2 till 50 with a stepsize of 3.\n",
    "\n",
    "### Answer 1:"
   ]
  },
  {
   "cell_type": "code",
   "execution_count": null,
   "metadata": {},
   "outputs": [],
   "source": [
    "import numpy as np\n",
    "\n",
    "arr = np.array(range(2, 50, 3))\n",
    "\n",
    "print(arr)"
   ]
  },
  {
   "cell_type": "markdown",
   "metadata": {},
   "source": [
    "### Question 2:\n",
    "\n",
    "Accept two lists of 5 elements each from the user.\n",
    "Convert them to numpy arrays. Concatenate these arrays and print it. Also sort these arrays and print it.\n",
    "\n",
    "### Answer 2:"
   ]
  },
  {
   "cell_type": "code",
   "execution_count": null,
   "metadata": {},
   "outputs": [],
   "source": [
    "list1 = [input() for k in range(5)]\n",
    "list2 = [input() for k in range(5)]\n",
    "\n",
    "list1 = np.array(list1)\n",
    "list2 = np.array(list2)\n",
    "\n",
    "list3 = np.concatenate((list1, list2))\n",
    "print(list3)\n",
    "\n",
    "print(np.sort(list1))\n",
    "print(np.sort(list2))\n",
    "print(np.sort(list3))"
   ]
  },
  {
   "cell_type": "markdown",
   "metadata": {},
   "source": [
    "### Question 3:\n",
    "\n",
    "Write a code snippet to find the dimensions of a ndarray and its size.\n",
    "\n",
    "### Answer 3:"
   ]
  },
  {
   "cell_type": "code",
   "execution_count": null,
   "metadata": {},
   "outputs": [],
   "source": [
    "# 1-D Array\n",
    "a_1d = np.arange(3)\n",
    "print(a_1d)\n",
    "\n",
    "# 2-D Array\n",
    "a_2d = np.arange(12).reshape((3, 4))\n",
    "print(a_2d)\n",
    "\n",
    "#3-D Array\n",
    "a_3d = np.arange(24).reshape((2, 3, 4))\n",
    "print(a_3d)\n",
    "\n",
    "# Finding Dimensions:\n",
    "print(a_1d.ndim)\n",
    "\n",
    "print(type(a_1d.ndim)) #int\n",
    "\n",
    "print(a_2d.ndim)\n",
    "\n",
    "print(a_3d.ndim)\n",
    "\n",
    "#Finding Size:\n",
    "print(a_1d.size)\n",
    "\n",
    "print(type(a_1d.size))#int\n",
    "\n",
    "print(a_2d.size)\n",
    "\n",
    "print(a_3d.size)"
   ]
  },
  {
   "cell_type": "markdown",
   "metadata": {},
   "source": [
    "### Question 4:\n",
    "\n",
    "How to convert a 1D array into a 2D array? Demonstrate with the help of a code snippet\n",
    "Hint: np.newaxis, np.expand_dims\n",
    "\n",
    "### Answer 4:"
   ]
  },
  {
   "cell_type": "code",
   "execution_count": null,
   "metadata": {},
   "outputs": [],
   "source": [
    "# 1D array\n",
    "arr = np.arange(4)\n",
    "print(arr)\n",
    "\n",
    "# make it as row vector by inserting an axis along first dimension\n",
    "row_vec = arr[np.newaxis, :]     # arr[None, :]\n",
    "print(row_vec)\n",
    "\n",
    "# make it as column vector by inserting an axis along second dimension\n",
    "col_vec = arr[:, np.newaxis]     # arr[:, None]\n",
    "print(col_vec)\n"
   ]
  },
  {
   "cell_type": "markdown",
   "metadata": {},
   "source": [
    "### Question 5:\n",
    "Consider two square numpy arrays. Stack them vertically and horizontally.\n",
    "Hint: Use vstack(), hstack()\n",
    "\n",
    "### Answer 5:\n"
   ]
  },
  {
   "cell_type": "code",
   "execution_count": null,
   "metadata": {},
   "outputs": [],
   "source": [
    "arr_1 = np.arange(4).reshape(2,2)\n",
    "arr_2 = np.arange(5,9).reshape(2,2)\n",
    "\n",
    "print(np.vstack((arr_1,arr_2)))\n",
    "print(np.hstack((arr_1,arr_2)))"
   ]
  },
  {
   "cell_type": "markdown",
   "metadata": {},
   "source": [
    "### Question 6:\n",
    "\n",
    "How to get unique items and counts of unique items?\n",
    "\n",
    "### Answer 6:"
   ]
  },
  {
   "cell_type": "code",
   "execution_count": null,
   "metadata": {},
   "outputs": [],
   "source": [
    "mylist = ['nowplaying', 'PBS', 'PBS', 'nowplaying', 'job', 'debate', 'thenandnow']\n",
    "myset = set(mylist)\n",
    "print(myset) #unique items\n",
    "mylist = list(myset)\n",
    "print(len(mylist))#count of unique items \n"
   ]
  }
 ],
 "metadata": {
  "kernelspec": {
   "display_name": "Python 3",
   "language": "python",
   "name": "python3"
  },
  "language_info": {
   "codemirror_mode": {
    "name": "ipython",
    "version": 3
   },
   "file_extension": ".py",
   "mimetype": "text/x-python",
   "name": "python",
   "nbconvert_exporter": "python",
   "pygments_lexer": "ipython3",
   "version": "3.8.3"
  }
 },
 "nbformat": 4,
 "nbformat_minor": 4
}
